{
 "cells": [
  {
   "cell_type": "markdown",
   "id": "3fe4c9c2",
   "metadata": {},
   "source": [
    "# Tasca M3 T01"
   ]
  },
  {
   "cell_type": "markdown",
   "id": "b5efc01a",
   "metadata": {},
   "source": [
    "### Exercici 1\n",
    "***\n",
    "Donat el següent dataframe data = {'Col1': [50, 30, 10, 40, 20]}, ordena els valors en ordre ascendent i descendent."
   ]
  },
  {
   "cell_type": "code",
   "execution_count": 1,
   "id": "643bade4",
   "metadata": {},
   "outputs": [
    {
     "name": "stdout",
     "output_type": "stream",
     "text": [
      "Ordre dels valors ascendent:\n",
      "   Col1\n",
      "2    10\n",
      "4    20\n",
      "1    30\n",
      "3    40\n",
      "0    50\n",
      "Ordre dels valors descendent:\n",
      "   Col1\n",
      "0    50\n",
      "3    40\n",
      "1    30\n",
      "4    20\n",
      "2    10\n"
     ]
    }
   ],
   "source": [
    "import pandas as pd\n",
    "\n",
    "\n",
    "data = {'Col1': [50, 30, 10, 40, 20]}\n",
    "df = pd.DataFrame(data)\n",
    "\n",
    "\n",
    "df_ascendent = df.sort_values(by='Col1', ascending=True)\n",
    "\n",
    "df_descendent = df.sort_values(by='Col1', ascending=False)\n",
    "\n",
    "\n",
    "print(\"Ordre dels valors ascendent:\")\n",
    "print(df_ascendent)\n",
    "\n",
    "print(\"Ordre dels valors descendent:\")\n",
    "print(df_descendent)\n"
   ]
  },
  {
   "cell_type": "markdown",
   "id": "6b0e2195",
   "metadata": {},
   "source": [
    "### Exercici 2\n",
    "***\n",
    "\n",
    "Donat el següent dataframe data = {'Col1': [50, 30, 10, 40, 20]}, filtra els valors que siguin més grans que 30."
   ]
  },
  {
   "cell_type": "code",
   "execution_count": 2,
   "id": "3983309c",
   "metadata": {},
   "outputs": [
    {
     "name": "stdout",
     "output_type": "stream",
     "text": [
      "   Col1\n",
      "0    50\n",
      "3    40\n"
     ]
    }
   ],
   "source": [
    "import pandas as pd\n",
    "\n",
    "\n",
    "data = {'Col1': [50, 30, 10, 40, 20]}\n",
    "df = pd.DataFrame(data)\n",
    "\n",
    "\n",
    "df_30 = df[df['Col1'] > 30]\n",
    "\n",
    "\n",
    "print(df_30)\n"
   ]
  },
  {
   "cell_type": "markdown",
   "id": "b9147869",
   "metadata": {},
   "source": [
    "### Exercici 3\n",
    "***\n",
    "\n",
    "Donat el següent dataframe data = {'Col1': [50, 30, 10, 40, 10]}, comptabilitza els valors únics."
   ]
  },
  {
   "cell_type": "code",
   "execution_count": 3,
   "id": "122733b1",
   "metadata": {},
   "outputs": [
    {
     "name": "stdout",
     "output_type": "stream",
     "text": [
      "Nombre de valors únics: 4\n"
     ]
    }
   ],
   "source": [
    "import pandas as pd\n",
    "\n",
    "\n",
    "data = {'Col1': [50, 30, 10, 40, 10]}\n",
    "df = pd.DataFrame(data)\n",
    "\n",
    "\n",
    "df_valors_unics = df['Col1'].nunique()\n",
    "\n",
    "\n",
    "print(\"Nombre de valors únics:\", df_valors_unics)\n"
   ]
  },
  {
   "cell_type": "markdown",
   "id": "2a80afb8",
   "metadata": {},
   "source": [
    "### Exercici 4\n",
    "***\n",
    "\n",
    "Donat el següent dataframe: data = {'Grup': ['A', 'B', 'A', 'B', 'A'], 'Col1': [10, 20, 30, 40, 50]}, suma les dades que pertanyen a la mateixa columna."
   ]
  },
  {
   "cell_type": "code",
   "execution_count": 26,
   "id": "d3d5c214",
   "metadata": {},
   "outputs": [
    {
     "name": "stdout",
     "output_type": "stream",
     "text": [
      "  Grup  Col1\n",
      "0    A    10\n",
      "1    B    20\n",
      "2    A    30\n",
      "3    B    40\n",
      "4    A    50\n",
      " \n",
      "Suma de les dades de la columna Col1: 150\n",
      " \n",
      "Suma de les dades de la columna Col1 per grup:\n",
      " \n",
      "      Col1\n",
      "Grup      \n",
      "A       90\n",
      "B       60\n"
     ]
    }
   ],
   "source": [
    "import pandas as pd\n",
    "\n",
    "\n",
    "data = {'Grup': ['A', 'B', 'A', 'B', 'A'], 'Col1': [10, 20, 30, 40, 50]}\n",
    "df = pd.DataFrame(data)\n",
    "\n",
    "df_suma = df['Col1'].sum()\n",
    "\n",
    "print (df)\n",
    "print (' ')\n",
    "print ('Suma de les dades de la columna Col1:', df_suma)\n",
    "print (' ')\n",
    "\n",
    "# Suma de les dades per columna i grup\n",
    "\n",
    "df_suma_grup = df.groupby('Grup').sum()\n",
    "\n",
    "print ('Suma de les dades de la columna Col1 per grup:')\n",
    "print (' ')\n",
    "print (df_suma_grup)"
   ]
  },
  {
   "cell_type": "markdown",
   "id": "95b25627",
   "metadata": {},
   "source": [
    "### Exercici 5\n",
    "***\n",
    "\n",
    "Donat el següent dataframe: data = {'Grup': ['A', 'B', 'A', 'B', 'A'], 'Col1': [10, 20, 30, 40, 50]}, crea una columna nova ‘Col2’ que sigui 2 si és superior al percentil 75% de la ‘Col1’, 0 si és inferior al 25% del percentil de la columna ‘Col1’ i 1 si cau entremig."
   ]
  },
  {
   "cell_type": "code",
   "execution_count": 27,
   "id": "f05ab625",
   "metadata": {},
   "outputs": [
    {
     "name": "stdout",
     "output_type": "stream",
     "text": [
      "  Grup  Col1  Col2\n",
      "0    A    10     0\n",
      "1    B    20     1\n",
      "2    A    30     1\n",
      "3    B    40     1\n",
      "4    A    50     2\n"
     ]
    }
   ],
   "source": [
    "import pandas as pd\n",
    "\n",
    "\n",
    "data = {'Grup': ['A', 'B', 'A', 'B', 'A'], 'Col1': [10, 20, 30, 40, 50]}\n",
    "df = pd.DataFrame(data)\n",
    "\n",
    "\n",
    "percentil_25 = df['Col1'].quantile(0.25)\n",
    "percentil_75 = df['Col1'].quantile(0.75)\n",
    "\n",
    "\n",
    "def percentils(x):\n",
    "    if x < percentil_25:\n",
    "        return 0\n",
    "    \n",
    "    elif x > percentil_75:\n",
    "        return 2\n",
    "    \n",
    "    else:\n",
    "        return 1\n",
    "\n",
    "df['Col2'] = df['Col1'].apply(percentils)\n",
    "\n",
    "\n",
    "print(df)"
   ]
  },
  {
   "cell_type": "markdown",
   "id": "adec42b2",
   "metadata": {},
   "source": [
    "### Exercici 6\n",
    "***\n",
    "\n",
    "Donat el següent dataframe: data = {'Grup': ['A', 'B', 'A', 'B', 'A'], 'Col1': [10, 20, 30, 40, 50]}, aplica lambda per obtenir el quadrat de la columna ‘Col1’ en una nova columna."
   ]
  },
  {
   "cell_type": "code",
   "execution_count": 7,
   "id": "09b436b4",
   "metadata": {},
   "outputs": [
    {
     "name": "stdout",
     "output_type": "stream",
     "text": [
      "  Grup  Col1  Col2\n",
      "0    A    10   100\n",
      "1    B    20   400\n",
      "2    A    30   900\n",
      "3    B    40  1600\n",
      "4    A    50  2500\n"
     ]
    }
   ],
   "source": [
    "import pandas as pd\n",
    "\n",
    "\n",
    "data = {'Grup': ['A', 'B', 'A', 'B', 'A'], 'Col1': [10, 20, 30, 40, 50]}\n",
    "df = pd.DataFrame(data)\n",
    "\n",
    "\n",
    "df['Col2'] = df['Col1'].apply(lambda x: x**2)\n",
    "\n",
    "print(df)\n"
   ]
  }
 ],
 "metadata": {
  "kernelspec": {
   "display_name": "Python 3 (ipykernel)",
   "language": "python",
   "name": "python3"
  },
  "language_info": {
   "codemirror_mode": {
    "name": "ipython",
    "version": 3
   },
   "file_extension": ".py",
   "mimetype": "text/x-python",
   "name": "python",
   "nbconvert_exporter": "python",
   "pygments_lexer": "ipython3",
   "version": "3.10.9"
  }
 },
 "nbformat": 4,
 "nbformat_minor": 5
}
